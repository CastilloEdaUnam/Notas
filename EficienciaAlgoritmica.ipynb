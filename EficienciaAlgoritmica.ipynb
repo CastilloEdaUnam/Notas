{
  "nbformat": 4,
  "nbformat_minor": 0,
  "metadata": {
    "colab": {
      "name": "EficienciaAlgoritmica.ipynb",
      "provenance": [],
      "collapsed_sections": [
        "ZPCpU9HapF1X",
        "Y9sqRrSSIIPj"
      ],
      "authorship_tag": "ABX9TyMNdGgZHh6ca62li88lR1xz",
      "include_colab_link": true
    },
    "kernelspec": {
      "name": "python3",
      "display_name": "Python 3"
    },
    "language_info": {
      "name": "python"
    }
  },
  "cells": [
    {
      "cell_type": "markdown",
      "metadata": {
        "id": "view-in-github",
        "colab_type": "text"
      },
      "source": [
        "<a href=\"https://colab.research.google.com/github/CastilloEdaUnam/Notas/blob/main/EficienciaAlgoritmica.ipynb\" target=\"_parent\"><img src=\"https://colab.research.google.com/assets/colab-badge.svg\" alt=\"Open In Colab\"/></a>"
      ]
    },
    {
      "cell_type": "markdown",
      "source": [
        ""
      ],
      "metadata": {
        "id": "pV3qAHu6IGeW"
      }
    },
    {
      "cell_type": "markdown",
      "source": [
        "#**Conceptos previos**\n",
        "\n",
        "A continuación se ofrecen algunos conceptos previos necesarios para entender la evaluación del tiempo de ejecución de un algoritmo\n",
        "\n",
        "##***Suma de los primeros números naturales***\n",
        "\n",
        "La suma de los primeros n numero naturales es:\n",
        "\n",
        "1+2+3...+(n-3)+(n-2)+(n-1)= **n(n+1)/2**\n",
        "\n",
        "* La suma de los primeros n-1 numeros naturales es:\n",
        "\n",
        ">> **(n-1)n/2**\n",
        "\n",
        "\n",
        "* La suma de los primeros n+1 numeros naturales es:\n",
        "\n",
        ">> **(n+1)(n+2)/2**\n",
        "\n",
        "* La suma de los numeros entre 2 y n está dada por:\n",
        "\n",
        ">> 2+3+4+...+(n-1)+n = (-1 + 1) + 2 +3 + 4 + ... + (n-1) + n\n",
        "\n",
        ">Con lo que la ecuacion es:\n",
        "\n",
        ">>**2+3+4+...+(n-1)+n = n(n+1))/2 - 1**\n",
        "\n",
        "##**tiempo de ejcución de una función**\n",
        "\n",
        "[¿Cómo medir el tiempo de ejecución de un fragmento de código?](https://ellibrodepython.com/tiempo-ejecucion-python)\n",
        "\n",
        "---\n",
        "##Creacion de un vector de numeros aleatorios\n",
        "\n",
        "El siguiente código crea un vector de 10 **números aleatorios no repetidos** entre 0 y 99."
      ],
      "metadata": {
        "id": "ZPCpU9HapF1X"
      }
    },
    {
      "cell_type": "code",
      "source": [
        "import random\n",
        "\n",
        "v = random.sample(range(100), 10)\n",
        "print(v)"
      ],
      "metadata": {
        "colab": {
          "base_uri": "https://localhost:8080/"
        },
        "id": "TfT9103sFJUD",
        "outputId": "3f72f787-08e7-4759-e508-376fad01c526"
      },
      "execution_count": 1,
      "outputs": [
        {
          "output_type": "stream",
          "name": "stdout",
          "text": [
            "[6, 98, 8, 16, 86, 75, 11, 33, 77, 15]\n"
          ]
        }
      ]
    },
    {
      "cell_type": "markdown",
      "source": [
        "El siguiente código crea un vector de 20 números aleatorios no repetidos entre 50 y 99."
      ],
      "metadata": {
        "id": "GpKRxR5pGW4n"
      }
    },
    {
      "cell_type": "code",
      "source": [
        "import random\n",
        "\n",
        "v = random.sample(range(50,100), 10)\n",
        "print(v)"
      ],
      "metadata": {
        "colab": {
          "base_uri": "https://localhost:8080/"
        },
        "id": "37bdg8Q7Gg-G",
        "outputId": "ffb438c4-531b-4627-8551-11c09e435d8c"
      },
      "execution_count": 2,
      "outputs": [
        {
          "output_type": "stream",
          "name": "stdout",
          "text": [
            "[78, 82, 92, 62, 77, 90, 74, 54, 55, 64]\n"
          ]
        }
      ]
    },
    {
      "cell_type": "markdown",
      "source": [
        "#Evaluación del tiempo de ejecución de un algoritmo\n",
        "\n",
        "El tiempo de ejecución de un algoritmo está intimamente ligado a tres factores:\n",
        "\n",
        "* El número de instrucciónes que deben ejecutarse en el algoritmo\n",
        "* Las prestaciones que de la computadora donde se ejecutará el algoritmo\n",
        "* El sistema operativo de la computadora donde se ejecutará el algorítmo\n",
        "\n",
        "El primer factor es totalmente independiente de la computadora, dependiendo unicamente de los datos de entrada del algoritmo, Mientras que los otros dos son totalmente dependientes.\n",
        "\n",
        "Una evaluación util deberá por tomar en cuenta las instrucciones y, de alguna forma, minimizar la influencia del los ptros factores. Aunque cada instrucción de un algoritmo se descompone en varias instrucciones del bajo nivel, es acptable, desde un punto de vista ingenieríl, pensar que una aproximación aceptable es concentrarse en las operaciones de alto nivel. Diferentes autores evaluan estas instruccione de diferente manera, sin embar en este texto simplemente consideraremos las instrucción de una manera general, y supondremos que para fines prácticos el numero de instrucciones es proporcional al tiempo de ejecución del algoritmo, y ese factor de proporcionalidad engloba la arquitectura de la computadora, el sistema operativo y las equivalencias entre instrucciones de alto nivel y las instrucciones de bajo nivel.\n",
        "\n",
        "Presentamos aquí el análisis del algoritmo de intercambio directo y con ello introducimos una serie de conceptos empleados en el análisis de algorimos.\n"
      ],
      "metadata": {
        "id": "UaO-Z2uSZaor"
      }
    },
    {
      "cell_type": "markdown",
      "source": [
        "#**Algoritmo de intercambio directo**\n",
        "El algoritmo de intercambio directo se puede formular como:\n",
        "\n",
        "**Entrada:**\n",
        "* v arreglo de numeros con índice inicial 0 y final n-1\n",
        "* n número de elementos del arreglo\n",
        "\n",
        "**salida:**\n",
        "\n",
        "* v arreglo ordenado de menor a mayor\n",
        "\n",
        "**condiciones**\n",
        "\n",
        "No puede emplearse otro arreglo de manera auxiliar\n",
        "\n",
        "```\n",
        "\n",
        "1   pivote = 0\n",
        "2   while pivote < n-1\n",
        "3       k = pivote + 1\n",
        "4       while k < n\n",
        "5           if v[pivote] > v[k]\n",
        "6               tmp = v[pivote]\n",
        "7               v[pivote] = v[k]\n",
        "8               v[k] = tmp\n",
        "9           k = k+1\n",
        "10      pivote = pivote+1\n",
        "\n",
        "```\n",
        "\n",
        "---\n",
        "\n",
        "\n",
        "#**Evaluación de la eficiencia del algoritmo de intercambio directo**\n",
        "\n",
        "\n",
        "El análisis de la ejecución del algoritmo, es decir cuántas instrucciones se ejecutan, es el siguiente:\n",
        "\n",
        "## Instruciones 1, 2, 3 y 10\n",
        "\n",
        "\n",
        "```\n",
        "\n",
        "1   pivote = 0\n",
        "2   while pivote < n-1\n",
        "3       k = pivote + 1\n",
        "    ...\n",
        "10      pivote = pivote+1\n",
        "\n",
        "```\n",
        "\n",
        "| No. | veces |\n",
        "| --- | --- |\n",
        "| **1** | 1 |\n",
        "| **2** | n |\n",
        "| **3** | n - 1 |\n",
        "\n",
        "## Instruccion 4\n",
        "\n",
        "\n",
        "```\n",
        "\n",
        "1   pivote = 0\n",
        "2   while pivote < n-1\n",
        "3       k = pivote + 1\n",
        "4       while k < n                  \n",
        "           ...\n",
        "10      pivote = pivote+1\n",
        "\n",
        "```\n",
        "La instrucción 4 se realiza dentro del ciclo externo (intrucción **2**), no debemos olvidar que se realiza una comparcion final que decide no entrar al ciclo.\n",
        "\n",
        "| pivote | la instruccion 4 se ejecuta | total para cada pivote |\n",
        "|---|---|---|\n",
        "|**0** | k = 1,3,4,5..n-1,**n**| n\n",
        "|**1** | k = 2,3,4,5..n-1,**n** | n-1\n",
        "|**2** | k = 3,4,5..n-1,**n** | n-2\n",
        "|**3** | k = 4,5..n-1,**n** |\n",
        "|**...**||\n",
        "|**n-3** |k = n-2,n-1,**n**| 3\n",
        "|**n-2**| k = n-1,**n** | 2\n",
        "\n",
        "\n",
        "Con lo que la instrucción 4 se ejecuta: `2+3+...+n-2+n-1+n`\n",
        "\n",
        "es decir **`n(n+1)/2 - 1`**\n",
        "\n",
        "## Instrucciones 5 y 9\n",
        "\n",
        "Ahora bien las instrucciones **5** y **9** se ejecutarán una vez menos que las instruccion **4**, \n",
        "\n",
        "| pivote | la instruccion 4 se ejecuta | total para cada pivote |\n",
        "|---|---|---|\n",
        "|**0** | k = 1,3,4,5..n-1| n-1\n",
        "|**1** | k = 2,3,4,5..n-1| n-2\n",
        "|**2** | k = 3,4,5..n-1 | n-3\n",
        "|**3** | k = 4,5..n-1 |\n",
        "|**...**||\n",
        "|**n-3** |k = n-2,n-1| 2\n",
        "|**n-2**| k = n-1 | 2\n",
        "\n",
        " en cada valor del pivote, es decir: **`n(n-1)/2`**\n",
        "\n",
        "## Instricciones 6 a 8\n",
        "```\n",
        "1   pivote = 0\n",
        "2   while pivote < n-1\n",
        "3       k = pivote + 1\n",
        "4       while k < n\n",
        "5           if v[pivote] > v[k]\n",
        "6               tmp = v[pivote]       <<<<\n",
        "7               v[pivote] = v[k]      <<<<\n",
        "8               v[k] = tmp            <<<<\n",
        "9           k = k+1\n",
        "10      pivote = pivote+1\n",
        "```\n",
        "\n",
        "La ejecución de las instrucciones **6** a **8** dependen el resultado de la evaluación de la condición de la instrucción **5**, que a su vez depende del contenido del vector v, no es posible calcular de manera general cuántas veces se ejcutarán para cualquier vector v. \n",
        "\n",
        "Esta es una situación común en los algoritmos de ordenamiento y en general en los algoritmos con cierto grado de complejidad: *el análisis depende en gran medida de los datos de entrada*.\n",
        "\n",
        "## **Analisis completo del algoritmo**\n",
        "\n",
        "Con lo que análisis se completa de esta manera:\n",
        "\n",
        "```\n",
        "\n",
        "1   pivote = 0\n",
        "2   while pivote < n-1\n",
        "3       k = pivote + 1\n",
        "4       while k < n\n",
        "5           if v[pivote] > v[k]\n",
        "6               tmp = v[pivote]\n",
        "7               v[pivote] = v[k]\n",
        "8               v[k] = tmp\n",
        "9           k = k+1\n",
        "10      pivote = pivote+1\n",
        "\n",
        "```\n",
        "\n",
        "| No. | veces |\n",
        "| --- | --- |\n",
        "| **1** | 1 |\n",
        "| **2** | n |\n",
        "| **3** | n - 1 |\n",
        "| **4** | n(n+1)/2 - 1\n",
        "|**5** | (n-1)n/2|\n",
        "|**6** | *depende del contenido de v* |\n",
        "|**7** | *depende del contenido de v* |\n",
        "|**8** | *depende del contenido de v* |\n",
        "|**9**| (n-1)n/2|\n",
        "|**10**| n-1\n",
        "\n",
        "---\n",
        "#¿se acabo ahí nuestro intento?\n",
        "\n",
        "A fin de poder continuar con el análisis, planteamos los casos extremos de contenido del vector v para determinar qué sucederá con las instrucciones **6** a **9**:\n",
        "\n",
        "\n",
        "*   **Mejor de los casos** El caso más favorable es que nunca se ejecuten esas instrucciones\n",
        "*   **Peor de los casos** El caso más desfavorable es que siempre se ejecuten esas instrucciones\n",
        "\n",
        "---\n",
        "\n",
        "#***Comportamiento del algoritmo en el mejor de los casos***\n",
        "\n",
        "```\n",
        "\n",
        "1   pivote = 0\n",
        "2   while pivote < n-1\n",
        "3       k = pivote + 1\n",
        "4       while k < n\n",
        "5           if v[pivote] > v[k]     <<<<<<<----- nunca entra\n",
        "6               tmp = v[pivote]\n",
        "7               v[pivote] = v[k]\n",
        "8               v[k] = tmp\n",
        "9           k = k+1\n",
        "10      pivote = pivote+1\n",
        "\n",
        "```\n",
        "El mejor de los casos se presenta cuando la comparación (linea **5**) del siempre resulta falsa, por lo tanto simpre se cumplirá que ` v[k] <= v[j]` para toda `k < j`, esto significa que **¡el mejor caso se presenta al intentar ordenar un vector ya ordenado!**\n",
        "\n",
        "Para concluir el análisis en el mejor de los casos:\n",
        "\n",
        "| No. | veces |\n",
        "| --- | --- |\n",
        "| **1** | 1 |\n",
        "| **2** | n |\n",
        "| **3** | n - 1 |\n",
        "| **4** | n(n+1)/2 - 1 |\n",
        "|**5** | (n-1)n/2|\n",
        "|**6** | **0**|\n",
        "|**7** | **0** |\n",
        "|**8** | **0** |\n",
        "|**9**| (n-1)n/2|\n",
        "|**10**| n-1\n",
        "\n",
        "Lo cual nos da como resultado que se ejecutan:\n",
        "\n",
        "`1 + n + (n-1) + (n(n+1)/2-1) + (n-1)n/2 + 0 + 0 + 0 +(n-1)n/2 + (n-1)`\n",
        "\n",
        "***Al reducir la expresion final para el mejor de los casos es***: \n",
        "\n",
        "##`-1/2 + n + 3/2n^2`\n",
        "\n",
        "---\n",
        "\n",
        "#***Comportamiento del algoritmo en el peor de los casos***\n",
        "\n",
        "En el peor de los casos el intercambio se realiza todas las veces porque la pregunta siempre resulta cierta, es decir simpre se cumplirá que ` v[k] <= v[j]` para toda `k < j`, esto significa que **¡el mejor caso se presenta al intentar ordenar un vector ya ordenado inversamente!**. La tabla de análisis quedaría como:\n",
        "\n",
        "| No. | veces |\n",
        "| --- | --- |\n",
        "| **1** | 1 |\n",
        "| **2** | n |\n",
        "| **3** | n - 1 |\n",
        "| **4** | n(n+1)/2 + 1 |\n",
        "|**5** | (n-1)n/2|\n",
        "|**6** | **(n-1)n/2** |\n",
        "|**7** | **(n-1)n/2** |\n",
        "|**8** | **(n-1)n/2** |\n",
        "|**9**| (n-1)n/2|\n",
        "|**10**| n-1 |\n",
        "\n",
        "***Al reducir la expresion final para el peor caso***: \n",
        "\n",
        "##`-1/2 - n/2 + 3n^2`\n",
        "\n"
      ],
      "metadata": {
        "id": "Y9sqRrSSIIPj"
      }
    },
    {
      "cell_type": "markdown",
      "source": [
        "#Evaluacion de los resultados:\n",
        "\n",
        "Usaremos python"
      ],
      "metadata": {
        "id": "JqWyKHpWq4zL"
      }
    },
    {
      "cell_type": "code",
      "source": [
        "import numpy as np"
      ],
      "metadata": {
        "id": "xAEv3wgWq0xp"
      },
      "execution_count": 3,
      "outputs": []
    },
    {
      "cell_type": "markdown",
      "source": [
        "Para calcular el mejor de los casos"
      ],
      "metadata": {
        "id": "F0Yv6x86orPK"
      }
    },
    {
      "cell_type": "code",
      "execution_count": 4,
      "metadata": {
        "id": "Q1ALlqrgIA9I",
        "colab": {
          "base_uri": "https://localhost:8080/"
        },
        "outputId": "cd35c17f-71bd-4c6c-e8cf-78200ee70266"
      },
      "outputs": [
        {
          "output_type": "stream",
          "name": "stdout",
          "text": [
            "[ 100.  200.  300.  400.  500.  600.  700.  800.  900. 1000.]\n",
            "[15099.5, 60199.5, 135299.5, 240399.5, 375499.5, 540599.5, 735699.5, 960799.5, 1215899.5, 1500999.5]\n"
          ]
        }
      ],
      "source": [
        "import numpy as np\n",
        "\n",
        "nv = np.linspace(100,1000,10)\n",
        "mejor = []\n",
        "for n in nv:\n",
        "  mejor.append(-1/2 + n + 3/2*n**2)\n",
        "\n",
        "print(nv)\n",
        "print(mejor)"
      ]
    },
    {
      "cell_type": "markdown",
      "source": [
        "Para calcular el peor de los casos"
      ],
      "metadata": {
        "id": "_0vIv1k_oke5"
      }
    },
    {
      "cell_type": "code",
      "source": [
        "import numpy as np\n",
        "\n",
        "nv = np.linspace(100,1000,10)\n",
        "peor = []\n",
        "for n in nv:\n",
        "  peor.append(-1/2 - 1/2*n + 3*n**2)\n",
        "\n",
        "print(nv)\n",
        "print(peor)"
      ],
      "metadata": {
        "id": "Sm7wOv0poQYu",
        "colab": {
          "base_uri": "https://localhost:8080/"
        },
        "outputId": "3a1c1cb5-14b4-42ed-cfb9-8c05f50e90bf"
      },
      "execution_count": 5,
      "outputs": [
        {
          "output_type": "stream",
          "name": "stdout",
          "text": [
            "[ 100.  200.  300.  400.  500.  600.  700.  800.  900. 1000.]\n",
            "[29949.5, 119899.5, 269849.5, 479799.5, 749749.5, 1079699.5, 1469649.5, 1919599.5, 2429549.5, 2999499.5]\n"
          ]
        }
      ]
    },
    {
      "cell_type": "code",
      "source": [
        ""
      ],
      "metadata": {
        "id": "VP8_DacWTJR7"
      },
      "execution_count": 5,
      "outputs": []
    },
    {
      "cell_type": "markdown",
      "source": [
        "EL código para graficar es:\n"
      ],
      "metadata": {
        "id": "Fms5sajuof0i"
      }
    },
    {
      "cell_type": "code",
      "source": [
        "import matplotlib.pyplot as plt\n",
        "\n",
        "fig, grafica = plt.subplots(facecolor='w', edgecolor='k')\n",
        "grafica.plot(nv,peor,marker='o',color='blue')\n",
        "grafica.plot(nv,mejor,marker='.',color='red')\n",
        "\n",
        "grafica.set_xlabel('n')\n",
        "grafica.set_ylabel('tiempo de ejecucion')\n",
        "grafica.grid(True)\n",
        "grafica.legend(['mejor de los casos','peor de los casos'])\n",
        "\n",
        "plt.title('Eficiencia Metodo de intercambio')\n",
        "plt.show()\n"
      ],
      "metadata": {
        "id": "pJzD5qGAoBS7",
        "colab": {
          "base_uri": "https://localhost:8080/",
          "height": 295
        },
        "outputId": "a8eda843-07ee-483b-f557-b81b68be8f7d"
      },
      "execution_count": 6,
      "outputs": [
        {
          "output_type": "display_data",
          "data": {
            "text/plain": [
              "<Figure size 432x288 with 1 Axes>"
            ],
            "image/png": "[encoded data removed]"
          },
          "metadata": {}
        }
      ]
    },
    {
      "cell_type": "markdown",
      "source": [
        "#La notación Big-O\n",
        "\n",
        "Como hemos visto el comportamiento del algoritmo sigue un polinomio de segundo grado, y teoricmamente la ejcución del algorimo para una entrada dada, siempre caerá entre la línea azul y roja. \n",
        "\n",
        "Pero recuerde que el objetivo final de este analisis es comparar dos o más algoritmos que resuelven el mismo problema y de terminar cuál de ellos es mejor.\n",
        "\n",
        "Una forma de comparar el comportamiento, es establecer un mínimo, del cual estemos seguros el agoritmo no podrá bajar en terminos de su tiempo de ejecución. Una posible qproximación la establece la denominada **notación Big-O**, esta notación establece un limite inferior (cota inferior) por debajo de la cual nuestro algoritmo no podrá bajar en terminos de ejecución.\n",
        "\n",
        "Una posible cota inferior para nuestro algoritmo es **`n^2`**, es decir olvidar el factor lineal y el independiente y quedarnos solamente con el termino cuadrático "
      ],
      "metadata": {
        "id": "CVcYDQIwY-i-"
      }
    },
    {
      "cell_type": "code",
      "source": [
        "nv = np.linspace(100,1000,10)\n",
        "cotaInferior = []\n",
        "for n in nv:\n",
        "  cotaInferior.append(n**2)\n",
        "\n",
        "print(nv)\n",
        "print(cotaInferior)"
      ],
      "metadata": {
        "colab": {
          "base_uri": "https://localhost:8080/"
        },
        "outputId": "caca1456-a6d1-4428-c709-d0c50f873b43",
        "id": "Hk6Dbm8jTLO9"
      },
      "execution_count": 7,
      "outputs": [
        {
          "output_type": "stream",
          "name": "stdout",
          "text": [
            "[ 100.  200.  300.  400.  500.  600.  700.  800.  900. 1000.]\n",
            "[10000.0, 40000.0, 90000.0, 160000.0, 250000.0, 360000.0, 490000.0, 640000.0, 810000.0, 1000000.0]\n"
          ]
        }
      ]
    },
    {
      "cell_type": "code",
      "source": [
        "import matplotlib.pyplot as plt\n",
        "\n",
        "fig, grafica = plt.subplots(facecolor='w', edgecolor='k')\n",
        "grafica.plot(nv,peor,marker='o',color='blue')\n",
        "grafica.plot(nv,mejor,marker='.',color='red')\n",
        "grafica.plot(nv,cotaInferior,marker='.',color='green')\n",
        "\n",
        "grafica.set_xlabel('n')\n",
        "grafica.set_ylabel('número de instrucciones\\n(proporcional al tiempo de ejecución)')\n",
        "grafica.grid(True)\n",
        "grafica.legend(['mejor de los casos','peor de los casos','O(n^2)'])\n",
        "\n",
        "plt.title('Eficiencia Metodo de intercambio')\n",
        "plt.show()"
      ],
      "metadata": {
        "colab": {
          "base_uri": "https://localhost:8080/",
          "height": 295
        },
        "id": "Ms7OWZC_e74i",
        "outputId": "26464544-bb99-4043-83f2-d5146284b48c"
      },
      "execution_count": 8,
      "outputs": [
        {
          "output_type": "display_data",
          "data": {
            "text/plain": [
              "<Figure size 432x288 with 1 Axes>"
            ],
            "image/png": "[encoded data removed]"
          },
          "metadata": {}
        }
      ]
    },
    {
      "cell_type": "markdown",
      "source": [
        "Como puede apreciarse esta cota (marcada en verde es menor que el mejor o el peor de los caso y marca efectivamente un limite abajo del cual nunca nuestro algoritmo estará. **se dice entonces que nuestro algorimo es de orden n^2** que tambien se denota como: **O(n^2)**"
      ],
      "metadata": {
        "id": "gKUqDy3RfH39"
      }
    },
    {
      "cell_type": "markdown",
      "source": [
        "#Un caso práctico\n",
        "\n",
        "A continuacion evaluaremos el algorimo de intercambio en terminos del tiempo de ejecuión, para ello determinaremos la hora a la que comienza a ejecutarse el algoritmo, luego ejecutaremos el algoritmo y determinaremos la hora a la que terminó, la diferencia entre estas dos horas es el tiempo que tardó en ejecutarse el algorimo."
      ],
      "metadata": {
        "id": "4-S-HVXbhIzn"
      }
    },
    {
      "cell_type": "code",
      "source": [
        "# vector: arreglo no ordenado\n",
        "# resultado: el vector está ordenado\n",
        "def ordenamiento(vector):\n",
        "\n",
        "  n = len(vector)\n",
        "  pivote = 0\n",
        "  while pivote<n-1:\n",
        "    k = pivote+1\n",
        "    while (k<n):\n",
        "      if vector[pivote]>vector[k]:\n",
        "        t = vector[pivote]\n",
        "        vector[pivote] = vector[k]\n",
        "        vector[k] = t\n",
        "      k += 1\n",
        "    pivote += 1\n",
        "  return \n",
        "\n",
        "v = [12,3,41,5,3,7]\n",
        "\n",
        "# observe que el vector es modificado\n",
        "# porque las listas son pasadas siempre por referencia\n",
        "# a las funciones\n",
        "ordenamiento(v)\n",
        "\n",
        "print(v)\n"
      ],
      "metadata": {
        "colab": {
          "base_uri": "https://localhost:8080/"
        },
        "id": "0Q754gK0hsAe",
        "outputId": "dd3e7882-d2f8-4d17-cbaf-9ed4a216df2b"
      },
      "execution_count": 9,
      "outputs": [
        {
          "output_type": "stream",
          "name": "stdout",
          "text": [
            "[3, 3, 5, 7, 12, 41]\n"
          ]
        }
      ]
    },
    {
      "cell_type": "code",
      "source": [
        "# Crea un vector de n elementos\n",
        "# si tipo = 1  genera el vector ordenado de manera creciente\n",
        "# si tipo = 2 genera el vector ordenado de manera decreciente\n",
        "# en cualquier otro caso genera un vector aleatorio (valor por default=0)\n",
        "import random\n",
        "\n",
        "def generaVector(n,tipo=0):\n",
        "  '''\n",
        "  n : tamaño del vector a generar\n",
        "  tipo: tipo de vector a generar\n",
        "      si tipo = 1  genera el vector ordenado de manera creciente\n",
        "      si tipo = 2 genera el vector ordenado de manera decreciente\n",
        "      en cualquier otro caso genera un vector aleatorio (valor por default=0)\n",
        "  '''\n",
        "  if tipo == 1:\n",
        "    v = list(range(0,n))\n",
        "  elif tipo == 2:\n",
        "    v = list(range(n-1,-1,-1))\n",
        "  else:\n",
        "    v = random.sample(list(range(0,n)),n)\n",
        "  return v\n",
        "\n",
        "n = int(input('¿Tamaño del arreglo?'))\n",
        "v = generaVector(n)\n",
        "print(v)\n",
        "v = generaVector(n,1)\n",
        "print(v)\n",
        "v = generaVector(n,2)\n",
        "print(v)\n",
        "\n",
        "\n",
        "\n"
      ],
      "metadata": {
        "colab": {
          "base_uri": "https://localhost:8080/"
        },
        "id": "lrue7fa8jXfa",
        "outputId": "c24426ae-350f-4bf8-cddd-8726fd83c4b2"
      },
      "execution_count": 10,
      "outputs": [
        {
          "output_type": "stream",
          "name": "stdout",
          "text": [
            "¿Tamaño del arreglo?5\n",
            "[1, 2, 4, 3, 0]\n",
            "[0, 1, 2, 3, 4]\n",
            "[4, 3, 2, 1, 0]\n"
          ]
        }
      ]
    },
    {
      "cell_type": "code",
      "source": [
        "#evaluacion del tiempo de ejecución\n",
        "\n",
        "import time\n",
        "\n",
        "n = int(input('¿Tamaño del arreglo?'))\n",
        "v = generaVector(n,0)\n",
        "inicio = time.time()\n",
        "ordenamiento(v)\n",
        "fin = time.time()\n",
        "\n",
        "print(f'Tiempo de ejecución vector desordenado: {fin-inicio} micro segundos')\n",
        "\n",
        "v = generaVector(n,1)\n",
        "inicio = time.time()\n",
        "ordenamiento(v)\n",
        "fin = time.time()\n",
        "\n",
        "print(f'Tiempo de ejecución vector ascendente: {fin-inicio} micro segundos')\n",
        "\n",
        "v = generaVector(n,2)\n",
        "inicio = time.time()\n",
        "ordenamiento(v)\n",
        "fin = time.time()\n",
        "\n",
        "print(f'Tiempo de ejecución vector descendente: {fin-inicio} micro segundos')\n"
      ],
      "metadata": {
        "colab": {
          "base_uri": "https://localhost:8080/"
        },
        "id": "vz-SiepMmG_p",
        "outputId": "be10c282-9909-40ea-824d-f2275997f06e"
      },
      "execution_count": 11,
      "outputs": [
        {
          "output_type": "stream",
          "name": "stdout",
          "text": [
            "¿Tamaño del arreglo?5\n",
            "Tiempo de ejecución vector desordenado: 5.0067901611328125e-05 micro segundos\n",
            "Tiempo de ejecución vector ascendente: 3.4809112548828125e-05 micro segundos\n",
            "Tiempo de ejecución vector descendente: 5.53131103515625e-05 micro segundos\n"
          ]
        }
      ]
    },
    {
      "cell_type": "markdown",
      "source": [
        ""
      ],
      "metadata": {
        "id": "E4KHwguFJ81d"
      }
    },
    {
      "cell_type": "markdown",
      "source": [
        "Con base en lo anterior generaremos una grafica del comportamiento del método de ordenamiento. Para ello generaremos vectores de diferentes tamaños y evaluaremos el tiempo que tarda el algoritmo en ordenar, con los tiempo crearemos una tabla que correlacione numero de elementos vs tiempo de ejecución.\n",
        "\n",
        "Note que el vector puede: estar ordenado ascendentement, ordenado descendentement o desordenado.\n",
        "\n",
        "##Evalución de ordenamiento de un arreglo desordenado\n"
      ],
      "metadata": {
        "id": "kiamdsNdK5kr"
      }
    },
    {
      "cell_type": "code",
      "source": [
        "def cronometra(v,f=ordenamiento):\n",
        "  '''\n",
        "  determina el tiempo de ejecución de la funcion que recibe como parametro\n",
        "  v es el vector a ordenar, no se modific dentro de la función porque se hace \n",
        "  una copia local del vector\n",
        "  '''\n",
        "  vp = v[:]\n",
        "  inicio = time.time()\n",
        "  f(vp)\n",
        "  fin = time.time() \n",
        "  return fin-inicio \n",
        "\n",
        "#  tamaño de los vectores que se evaluaran\n",
        "nv = [1000,2000,4000,8000,10000]\n",
        "t_desordenado = []\n",
        "for nk in nv:\n",
        "  print(f'calculando para {nk} = ',end='')\n",
        "  v = generaVector(nk)\n",
        "  tk = cronometra(v)\n",
        "  print(f'{tk} micro segs.')\n",
        "  t_desordenado.append(tk)\n",
        "\n",
        "print(f'vector nv = {n}')\n",
        "print(f'vector t = {t_desordenado}')\n",
        "\n"
      ],
      "metadata": {
        "colab": {
          "base_uri": "https://localhost:8080/"
        },
        "id": "juTkduVMLwAi",
        "outputId": "2ab89bbc-56d0-473b-d7f9-8be9f9052542"
      },
      "execution_count": 12,
      "outputs": [
        {
          "output_type": "stream",
          "name": "stdout",
          "text": [
            "calculando para 1000 = 0.10791945457458496 micro segs.\n",
            "calculando para 2000 = 0.4237208366394043 micro segs.\n",
            "calculando para 4000 = 1.6404502391815186 micro segs.\n",
            "calculando para 8000 = 6.35462760925293 micro segs.\n",
            "calculando para 10000 = 9.954047918319702 micro segs.\n",
            "vector nv = 5\n",
            "vector t = [0.10791945457458496, 0.4237208366394043, 1.6404502391815186, 6.35462760925293, 9.954047918319702]\n"
          ]
        }
      ]
    },
    {
      "cell_type": "code",
      "source": [
        "import matplotlib.pyplot as plt\n",
        "\n",
        "fig, grafica = plt.subplots(facecolor='w', edgecolor='k')\n",
        "grafica.plot(nv,t_desordenado,marker='o',color='blue')\n",
        "\n",
        "grafica.set_xlabel('n')\n",
        "grafica.set_ylabel('tiempo de ejecucion')\n",
        "grafica.grid(True)\n",
        "grafica.legend(['ordenamiento de elemntos aleatorios'])\n",
        "\n",
        "plt.title('Eficiencia Metodo de intercambio')\n",
        "plt.show()"
      ],
      "metadata": {
        "colab": {
          "base_uri": "https://localhost:8080/",
          "height": 295
        },
        "id": "5-4CFZrjR3u0",
        "outputId": "5bd44fb9-b631-416b-c459-e3716e0e1bed"
      },
      "execution_count": 13,
      "outputs": [
        {
          "output_type": "display_data",
          "data": {
            "text/plain": [
              "<Figure size 432x288 with 1 Axes>"
            ],
            "image/png": "[encoded data removed]"
          },
          "metadata": {}
        }
      ]
    },
    {
      "cell_type": "markdown",
      "source": [
        "## Evaluacion para un arreglo ordenado ascendentemente (mejor de los casos)"
      ],
      "metadata": {
        "id": "0NetD6P9WT_N"
      }
    },
    {
      "cell_type": "code",
      "source": [
        "#  tamaño de los vectores que se evaluaran\n",
        "t_mejor = []\n",
        "for nk in nv:\n",
        "  print(f'calculando para {nk} = ',end='')\n",
        "  v = generaVector(nk,1)\n",
        "  tk = cronometra(v)\n",
        "  print(f'{tk} micro segs.')\n",
        "  t_mejor.append(tk)\n",
        "\n",
        "print(f'vector nv = {n}')\n",
        "print(f'vector t = {t_mejor}')"
      ],
      "metadata": {
        "colab": {
          "base_uri": "https://localhost:8080/"
        },
        "id": "L_54xWnNWcEl",
        "outputId": "834ca5a0-6f52-4c1b-f7bf-2fde5464fc87"
      },
      "execution_count": 14,
      "outputs": [
        {
          "output_type": "stream",
          "name": "stdout",
          "text": [
            "calculando para 1000 = 0.0874335765838623 micro segs.\n",
            "calculando para 2000 = 0.2791762351989746 micro segs.\n",
            "calculando para 4000 = 1.1468868255615234 micro segs.\n",
            "calculando para 8000 = 4.310442686080933 micro segs.\n",
            "calculando para 10000 = 6.75455379486084 micro segs.\n",
            "vector nv = 5\n",
            "vector t = [0.0874335765838623, 0.2791762351989746, 1.1468868255615234, 4.310442686080933, 6.75455379486084]\n"
          ]
        }
      ]
    },
    {
      "cell_type": "code",
      "source": [
        "import matplotlib.pyplot as plt\n",
        "\n",
        "fig, grafica = plt.subplots(facecolor='w', edgecolor='k')\n",
        "grafica.plot(nv,t_mejor,marker='o',color='green')\n",
        "\n",
        "grafica.set_xlabel('n')\n",
        "grafica.set_ylabel('tiempo de ejecucion')\n",
        "grafica.grid(True)\n",
        "grafica.legend(['Mejor de los casos'])\n",
        "\n",
        "plt.title('Eficiencia Metodo de intercambio')\n",
        "plt.show()"
      ],
      "metadata": {
        "colab": {
          "base_uri": "https://localhost:8080/",
          "height": 295
        },
        "id": "LGmWW5MAWwCN",
        "outputId": "09feef0b-6718-44fa-e1e4-9b04ff99c844"
      },
      "execution_count": 15,
      "outputs": [
        {
          "output_type": "display_data",
          "data": {
            "text/plain": [
              "<Figure size 432x288 with 1 Axes>"
            ],
            "image/png": "[encoded data removed]"
          },
          "metadata": {}
        }
      ]
    },
    {
      "cell_type": "markdown",
      "source": [
        "## Evaluación del algoritmo en el peor de los casos (ordendo inversamente)"
      ],
      "metadata": {
        "id": "lHM3qaUfXAvu"
      }
    },
    {
      "cell_type": "code",
      "source": [
        "import matplotlib.pyplot as plt\n",
        "\n",
        "#  tamaño de los vectores que se evaluaran\n",
        "t_peor = []\n",
        "for nk in nv:\n",
        "  print(f'calculando para {nk} = ',end='')\n",
        "  v = generaVector(nk,2)\n",
        "  tk = cronometra(v)\n",
        "  print(f'{tk} micro segs.')\n",
        "  t_peor.append(tk)\n",
        "\n",
        "print(f'vector nv = {n}')\n",
        "print(f'vector t = {t_peor}')\n",
        "\n",
        "fig, grafica = plt.subplots(facecolor='w', edgecolor='k')\n",
        "grafica.plot(nv,t_peor,marker='o',color='red')\n",
        "\n",
        "grafica.set_xlabel('n')\n",
        "grafica.set_ylabel('tiempo de ejecucion')\n",
        "grafica.grid(True)\n",
        "grafica.legend(['Peor de los casos'])\n",
        "\n",
        "plt.title('Eficiencia Método de intercambio')\n",
        "plt.show()"
      ],
      "metadata": {
        "colab": {
          "base_uri": "https://localhost:8080/",
          "height": 423
        },
        "id": "6IO7CX9jXJlP",
        "outputId": "2e65e301-c81a-4c09-d058-771f97ebca4a"
      },
      "execution_count": 16,
      "outputs": [
        {
          "output_type": "stream",
          "name": "stdout",
          "text": [
            "calculando para 1000 = 0.16553378105163574 micro segs.\n",
            "calculando para 2000 = 0.573244571685791 micro segs.\n",
            "calculando para 4000 = 2.2488558292388916 micro segs.\n",
            "calculando para 8000 = 8.74876070022583 micro segs.\n",
            "calculando para 10000 = 13.75713038444519 micro segs.\n",
            "vector nv = 5\n",
            "vector t = [0.16553378105163574, 0.573244571685791, 2.2488558292388916, 8.74876070022583, 13.75713038444519]\n"
          ]
        },
        {
          "output_type": "display_data",
          "data": {
            "text/plain": [
              "<Figure size 432x288 with 1 Axes>"
            ],
            "image/png": "[encoded data removed]"
          },
          "metadata": {}
        }
      ]
    },
    {
      "cell_type": "markdown",
      "source": [
        "##**Todos los casos juntos en una sola gráfica**"
      ],
      "metadata": {
        "id": "TTfZxmukXrT5"
      }
    },
    {
      "cell_type": "code",
      "source": [
        "import matplotlib.pyplot as plt\n",
        "\n",
        "\n",
        "\n",
        "fig, grafica = plt.subplots(facecolor='w', edgecolor='k')\n",
        "grafica.plot(nv,t_peor,marker='o',color='red')\n",
        "grafica.plot(nv,t_mejor,marker='o',color='green')\n",
        "grafica.plot(nv,t_desordenado,marker='o',color='blue')\n",
        "\n",
        "grafica.set_xlabel('n')\n",
        "grafica.set_ylabel('tiempo de ejecucion (micro segs)')\n",
        "grafica.grid(True)\n",
        "grafica.legend(['Peor de los casos','Mejor de los casos','Entrada aleatoria'])\n",
        "\n",
        "plt.title('Eficiencia Método de intercambio')\n",
        "plt.show()"
      ],
      "metadata": {
        "colab": {
          "base_uri": "https://localhost:8080/",
          "height": 295
        },
        "id": "G5B_CM9aXKG3",
        "outputId": "aa25ef08-d5ab-490d-8bee-2567ed9695a7"
      },
      "execution_count": 17,
      "outputs": [
        {
          "output_type": "display_data",
          "data": {
            "text/plain": [
              "<Figure size 432x288 with 1 Axes>"
            ],
            "image/png": "[encoded data removed]"
          },
          "metadata": {}
        }
      ]
    }
  ]
}