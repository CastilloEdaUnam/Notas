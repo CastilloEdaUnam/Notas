{
  "nbformat": 4,
  "nbformat_minor": 0,
  "metadata": {
    "colab": {
      "name": "EficienciaAlgoritmica.ipynb",
      "provenance": [],
      "collapsed_sections": [],
      "authorship_tag": "ABX9TyOMVX6nrjA4DssVNllGk84B",
      "include_colab_link": true
    },
    "kernelspec": {
      "name": "python3",
      "display_name": "Python 3"
    },
    "language_info": {
      "name": "python"
    }
  },
  "cells": [
    {
      "cell_type": "markdown",
      "metadata": {
        "id": "view-in-github",
        "colab_type": "text"
      },
      "source": [
        "<a href=\"https://colab.research.google.com/github/CastilloEdaUnam/Notas/blob/main/EficienciaAlgoritmica.ipynb\" target=\"_parent\"><img src=\"https://colab.research.google.com/assets/colab-badge.svg\" alt=\"Open In Colab\"/></a>"
      ]
    },
    {
      "cell_type": "markdown",
      "source": [
        ""
      ],
      "metadata": {
        "id": "pV3qAHu6IGeW"
      }
    },
    {
      "cell_type": "markdown",
      "source": [
        "#**Conceptos previos**\n",
        "\n",
        "A continuación se ofrecen algunos conceptos previos necesarios para entender la evaluación del tiempo de ejecución de un algoritmo\n",
        "\n",
        "##***Suma de los primeros números naturales***\n",
        "\n",
        "La suma de los primeros n numero naturales es:\n",
        "\n",
        "1+2+3...+(n-3)+(n-2)+(n-1)= **n(n+1)/2**\n",
        "\n",
        "* La suma de los primeros n-1 numeros naturales es:\n",
        "\n",
        ">> **(n-1)n/2**\n",
        "\n",
        "\n",
        "* La suma de los primeros n+1 numeros naturales es:\n",
        "\n",
        ">> **(n+1)(n+2)/2**\n",
        "\n",
        "* La suma de los numeros entre 2 y n está dada por:\n",
        "\n",
        ">> 2+3+4+...+(n-1)+n = (-1 + 1) + 2 +3 + 4 + ... + (n-1) + n\n",
        "\n",
        ">Con lo que la ecuacion es:\n",
        "\n",
        ">>**2+3+4+...+(n-1)+n = n(n+1))/2 - 1**\n",
        "\n",
        "##**tiempo de ejcución de una función**\n",
        "\n",
        "[¿Cómo medir el tiempo de ejecución de un fragmento de código?](https://ellibrodepython.com/tiempo-ejecucion-python)\n",
        "\n",
        "---\n",
        "##Creacion de un vector de numeros aleatorios\n",
        "\n",
        "El siguiente código crea un vector de 10 **números aleatorios no repetidos** entre 0 y 99."
      ],
      "metadata": {
        "id": "ZPCpU9HapF1X"
      }
    },
    {
      "cell_type": "code",
      "source": [
        "import random\n",
        "\n",
        "v = random.sample(range(100), 10)\n",
        "print(v)"
      ],
      "metadata": {
        "colab": {
          "base_uri": "https://localhost:8080/"
        },
        "id": "TfT9103sFJUD",
        "outputId": "069e9f46-320f-43e9-e03b-777ef33ae0ac"
      },
      "execution_count": null,
      "outputs": [
        {
          "output_type": "stream",
          "name": "stdout",
          "text": [
            "[56, 51, 99, 80, 64, 52, 62, 65, 48, 82]\n"
          ]
        }
      ]
    },
    {
      "cell_type": "markdown",
      "source": [
        "El siguiente código crea un vector de 20 números aleatorios no repetidos entre 50 y 99."
      ],
      "metadata": {
        "id": "GpKRxR5pGW4n"
      }
    },
    {
      "cell_type": "code",
      "source": [
        "import random\n",
        "\n",
        "v = random.sample(range(50,100), 10)\n",
        "print(v)"
      ],
      "metadata": {
        "colab": {
          "base_uri": "https://localhost:8080/"
        },
        "id": "37bdg8Q7Gg-G",
        "outputId": "020e55c0-e1d7-439b-8d2c-1f357859e6b4"
      },
      "execution_count": null,
      "outputs": [
        {
          "output_type": "stream",
          "name": "stdout",
          "text": [
            "[72, 96, 92, 56, 85, 54, 77, 53, 62, 67]\n"
          ]
        }
      ]
    },
    {
      "cell_type": "markdown",
      "source": [
        "---"
      ],
      "metadata": {
        "id": "zYSRkP40Sck-"
      }
    },
    {
      "cell_type": "markdown",
      "source": [
        "#**Algoritmo de intercambio directo**\n",
        "El algoritmo de intercambio directo se puede formular como:\n",
        "\n",
        "**Entrada:**\n",
        "* v arreglo de numeros con índice inicial 0 y final n-1\n",
        "* n número de elementos del arreglo\n",
        "\n",
        "**salida:**\n",
        "\n",
        "* v arreglo ordenado de menor a mayor\n",
        "\n",
        "**condiciones**\n",
        "\n",
        "No puede emplearse otro arreglo de manera auxiliar\n",
        "\n",
        "```\n",
        "\n",
        "1   pivote = 0\n",
        "2   while pivote < n-1\n",
        "3       k = pivote + 1\n",
        "4       while k < n\n",
        "5           if v[pivote] > v[k]\n",
        "6               tmp = v[pivote]\n",
        "7               v[pivote] = v[k]\n",
        "8               v[k] = tmp\n",
        "9           k = k+1\n",
        "10      pivote = pivote+1\n",
        "\n",
        "```\n",
        "\n",
        "---\n",
        "\n",
        "\n",
        "#**Evaluación de la eficiencia del algoritmo de intercambio directo**\n",
        "\n",
        "\n",
        "El análisis de la ejecucion del algoritmo, es decir cuantas instrucciones se ejecutan, es el siguiente:\n",
        "\n",
        "## Instruciones 1, 2, 3 y 10\n",
        "\n",
        "\n",
        "```\n",
        "\n",
        "1   pivote = 0\n",
        "2   while pivote < n-1\n",
        "3       k = pivote + 1\n",
        "    ...\n",
        "10      pivote = pivote+1\n",
        "\n",
        "```\n",
        "\n",
        "| No. | veces |\n",
        "| --- | --- |\n",
        "| **1** | 1 |\n",
        "| **2** | n |\n",
        "| **3** | n - 1 |\n",
        "\n",
        "## Instruccion 4\n",
        "\n",
        "\n",
        "```\n",
        "\n",
        "1   pivote = 0\n",
        "2   while pivote < n-1\n",
        "3       k = pivote + 1\n",
        "4       while k < n                  \n",
        "           ...\n",
        "10      pivote = pivote+1\n",
        "\n",
        "```\n",
        "La instrucción 4 se realiza dentro del ciclo externo (intrucción **2**), no debemos olvidar que se realiza una comparcion final que decide no entrar al ciclo.\n",
        "\n",
        "| pivote | la instruccion 4 se ejecuta | total para cada pivote |\n",
        "|---|---|---|\n",
        "|**0** | k = 1,3,4,5..n-1,**n**| n\n",
        "|**1** | k = 2,3,4,5..n-1,**n** | n-1\n",
        "|**2** | k = 3,4,5..n-1,**n** | n-2\n",
        "|**3** | k = 4,5..n-1,**n** |\n",
        "|**...**||\n",
        "|**n-3** |k = n-2,n-1,**n**| 3\n",
        "|**n-2**| k = n-1,**n** | 2\n",
        "\n",
        "\n",
        "Con lo que la instrucción 4 se ejecuta: `2+3+...+n-2+n-1+n`\n",
        "\n",
        "es decir **`n(n+1)/2 - 1`**\n",
        "\n",
        "## Instrucciones 5 y 9\n",
        "\n",
        "Ahora bien las instrucciones **5** y **9** se ejecutarán una vez menos que las instruccion **4**, \n",
        "\n",
        "| pivote | la instruccion 4 se ejecuta | total para cada pivote |\n",
        "|---|---|---|\n",
        "|**0** | k = 1,3,4,5..n-1| n-1\n",
        "|**1** | k = 2,3,4,5..n-1| n-2\n",
        "|**2** | k = 3,4,5..n-1 | n-3\n",
        "|**3** | k = 4,5..n-1 |\n",
        "|**...**||\n",
        "|**n-3** |k = n-2,n-1| 2\n",
        "|**n-2**| k = n-1 | 2\n",
        "\n",
        " en cada valor del pivote, es decir: **`n(n-1)/2`**\n",
        "\n",
        "## Instricciones 6 a 8\n",
        "```\n",
        "1   pivote = 0\n",
        "2   while pivote < n-1\n",
        "3       k = pivote + 1\n",
        "4       while k < n\n",
        "5           if v[pivote] > v[k]\n",
        "6               tmp = v[pivote]       <<<<\n",
        "7               v[pivote] = v[k]      <<<<\n",
        "8               v[k] = tmp            <<<<\n",
        "9           k = k+1\n",
        "10      pivote = pivote+1\n",
        "```\n",
        "\n",
        "La ejecución de las instrucciones **6** a **8** dependen el resultado de la evaluación de la condición de la instrucción **5**, que a su vez depende del contenido del vector v, no es posible calcular de manera general cuántas veces se ejcutarán para cualquier vector v. \n",
        "\n",
        "Esta es una situación común en los algoritmos de ordenamiento y en general en los algoritmos con cierto grado de complejidad: *el análisis depende en gran medida de los datos de entrada*.\n",
        "\n",
        "## **Analisis completo del algoritmo**\n",
        "\n",
        "Con lo que análisis se completa de esta manera:\n",
        "\n",
        "```\n",
        "\n",
        "1   pivote = 0\n",
        "2   while pivote < n-1\n",
        "3       k = pivote + 1\n",
        "4       while k < n\n",
        "5           if v[pivote] > v[k]\n",
        "6               tmp = v[pivote]\n",
        "7               v[pivote] = v[k]\n",
        "8               v[k] = tmp\n",
        "9           k = k+1\n",
        "10      pivote = pivote+1\n",
        "\n",
        "```\n",
        "\n",
        "| No. | veces |\n",
        "| --- | --- |\n",
        "| **1** | 1 |\n",
        "| **2** | n |\n",
        "| **3** | n - 1 |\n",
        "| **4** | n(n+1)/2 - 1\n",
        "|**5** | (n-1)n/2|\n",
        "|**6** | *depende del contenido de v* |\n",
        "|**7** | *depende del contenido de v* |\n",
        "|**8** | *depende del contenido de v* |\n",
        "|**9**| (n-1)n/2|\n",
        "|**10**| n-1\n",
        "\n",
        "---\n",
        "#¿se acabo ahi nuestro intento?\n",
        "\n",
        "A fin de poder continuar con el análisis, planteamos los casos extremos de contenido del vector v para determinar qué sucederá con las instrucciones **6** a **9**:\n",
        "\n",
        "\n",
        "*   **Mejor de los casos** El caso más favorable es que nunca se ejecuten esas instrucciones\n",
        "*   **Peor de los casos** El caso más desfavorable es que siempre se ejecuten esas instrucciones\n",
        "\n",
        "---\n",
        "\n",
        "#***Comportamiento del algoritmo en el mejor de los casos***\n",
        "\n",
        "```\n",
        "\n",
        "1   pivote = 0\n",
        "2   while pivote < n-1\n",
        "3       k = pivote + 1\n",
        "4       while k < n\n",
        "5           if v[pivote] > v[k]     <<<<<<<----- nunca entra\n",
        "6               tmp = v[pivote]\n",
        "7               v[pivote] = v[k]\n",
        "8               v[k] = tmp\n",
        "9           k = k+1\n",
        "10      pivote = pivote+1\n",
        "\n",
        "```\n",
        "El mejor de los casos se presenta cuando la comparación (linea **5**) del siempre resulta falsa, por lo tanto simpre se cumplirá que ` v[k] <= v[j]` para toda `k < j`, esto significa que **¡el mejor caso se presenta al intentar ordenar un vector ya ordenado!**\n",
        "\n",
        "Para concluir el análisis en el mejor de los casos:\n",
        "\n",
        "| No. | veces |\n",
        "| --- | --- |\n",
        "| **1** | 1 |\n",
        "| **2** | n |\n",
        "| **3** | n - 1 |\n",
        "| **4** | n(n+1)/2 - 1 |\n",
        "|**5** | (n-1)n/2|\n",
        "|**6** | **0**|\n",
        "|**7** | **0** |\n",
        "|**8** | **0** |\n",
        "|**9**| (n-1)n/2|\n",
        "|**10**| n-1\n",
        "\n",
        "Lo cual nos da como resultado que se ejecutan:\n",
        "\n",
        "`1 + n + (n-1) + (n(n+1)/2-1) + (n-1)n/2 + 0 + 0 + 0 +(n-1)n/2 + (n-1)`\n",
        "\n",
        "***Al reducir la expresion final para el mejor de los casos es***: \n",
        "\n",
        "##`-1/2 + n + 3/2n^2`\n",
        "\n",
        "---\n",
        "\n",
        "#***Comportamiento del algoritmo en el peor de los casos***\n",
        "\n",
        "En el peor de los casos el intercambio se realiza todas las veces porque la pregunta siempre resulta cierta, es decir simpre se cumplirá que ` v[k] <= v[j]` para toda `k < j`, esto significa que **¡el mejor caso se presenta al intentar ordenar un vector ya ordenado inversamente!**. La tabla de análisis quedaría como:\n",
        "\n",
        "| No. | veces |\n",
        "| --- | --- |\n",
        "| **1** | 1 |\n",
        "| **2** | n |\n",
        "| **3** | n - 1 |\n",
        "| **4** | n(n+1)/2 + 1 |\n",
        "|**5** | (n-1)n/2|\n",
        "|**6** | **(n-1)n/2** |\n",
        "|**7** | **(n-1)n/2** |\n",
        "|**8** | **(n-1)n/2** |\n",
        "|**9**| (n-1)n/2|\n",
        "|**10**| n-1 |\n",
        "\n",
        "***Al reducir la expresion final para el peor caso***: \n",
        "\n",
        "##`-1/2 - n/2 + 3n^2`\n",
        "\n"
      ],
      "metadata": {
        "id": "Y9sqRrSSIIPj"
      }
    },
    {
      "cell_type": "markdown",
      "source": [
        "#Evaluacion de los resultados:\n",
        "\n",
        "Usaremos python"
      ],
      "metadata": {
        "id": "JqWyKHpWq4zL"
      }
    },
    {
      "cell_type": "code",
      "source": [
        "import numpy as np"
      ],
      "metadata": {
        "id": "xAEv3wgWq0xp"
      },
      "execution_count": 2,
      "outputs": []
    },
    {
      "cell_type": "markdown",
      "source": [
        "Para calcular el mejor de los casos"
      ],
      "metadata": {
        "id": "F0Yv6x86orPK"
      }
    },
    {
      "cell_type": "code",
      "execution_count": 3,
      "metadata": {
        "id": "Q1ALlqrgIA9I",
        "colab": {
          "base_uri": "https://localhost:8080/"
        },
        "outputId": "86a9e690-e51d-4ee3-a039-91c82ec13cea"
      },
      "outputs": [
        {
          "output_type": "stream",
          "name": "stdout",
          "text": [
            "[ 100.  200.  300.  400.  500.  600.  700.  800.  900. 1000.]\n",
            "[15099.5, 60199.5, 135299.5, 240399.5, 375499.5, 540599.5, 735699.5, 960799.5, 1215899.5, 1500999.5]\n"
          ]
        }
      ],
      "source": [
        "\n",
        "\n",
        "nv = np.linspace(100,1000,10)\n",
        "mejor = []\n",
        "for n in nv:\n",
        "  mejor.append(-1/2 + n + 3/2*n**2)\n",
        "\n",
        "print(nv)\n",
        "print(mejor)"
      ]
    },
    {
      "cell_type": "markdown",
      "source": [
        "Para calcular el peor de los casos"
      ],
      "metadata": {
        "id": "_0vIv1k_oke5"
      }
    },
    {
      "cell_type": "code",
      "source": [
        "nv = np.linspace(100,1000,10)\n",
        "peor = []\n",
        "for n in nv:\n",
        "  peor.append(-1/2 - 1/2*n + 3*n**2)\n",
        "\n",
        "print(nv)\n",
        "print(peor)"
      ],
      "metadata": {
        "id": "Sm7wOv0poQYu",
        "colab": {
          "base_uri": "https://localhost:8080/"
        },
        "outputId": "273a6852-9c93-46fd-d46e-84f78c2317d0"
      },
      "execution_count": 4,
      "outputs": [
        {
          "output_type": "stream",
          "name": "stdout",
          "text": [
            "[ 100.  200.  300.  400.  500.  600.  700.  800.  900. 1000.]\n",
            "[29949.5, 119899.5, 269849.5, 479799.5, 749749.5, 1079699.5, 1469649.5, 1919599.5, 2429549.5, 2999499.5]\n"
          ]
        }
      ]
    },
    {
      "cell_type": "code",
      "source": [
        ""
      ],
      "metadata": {
        "id": "VP8_DacWTJR7"
      },
      "execution_count": null,
      "outputs": []
    },
    {
      "cell_type": "code",
      "source": [
        "nv = np.linspace(100,1000,10)\n",
        "cotaInferior = []\n",
        "for n in nv:\n",
        "  cotaInferior.append(n**2)\n",
        "\n",
        "print(nv)\n",
        "print(cotaInferior)"
      ],
      "metadata": {
        "colab": {
          "base_uri": "https://localhost:8080/"
        },
        "outputId": "bce384b6-2267-4b83-d006-c03e9176a79e",
        "id": "Hk6Dbm8jTLO9"
      },
      "execution_count": 9,
      "outputs": [
        {
          "output_type": "stream",
          "name": "stdout",
          "text": [
            "[ 100.  200.  300.  400.  500.  600.  700.  800.  900. 1000.]\n",
            "[10000.0, 40000.0, 90000.0, 160000.0, 250000.0, 360000.0, 490000.0, 640000.0, 810000.0, 1000000.0]\n"
          ]
        }
      ]
    },
    {
      "cell_type": "markdown",
      "source": [
        "EL código para graficar es:\n"
      ],
      "metadata": {
        "id": "Fms5sajuof0i"
      }
    },
    {
      "cell_type": "code",
      "source": [
        "import matplotlib.pyplot as plt\n",
        "\n",
        "fig, grafica = plt.subplots(facecolor='w', edgecolor='k')\n",
        "grafica.plot(nv,peor,marker='o',color='b')\n",
        "grafica.plot(nv,mejor,marker='.',color='r')\n",
        "grafica.plot(nv,cotaInferior,marker='x',color='green')\n",
        "grafica.set_xlabel('n')\n",
        "grafica.set_ylabel('tiempo de ejecucion')\n",
        "grafica.grid(True)\n",
        "grafica.legend(['mejor de los casos','peor de los casos','COTA INFERIOR'])\n",
        "\n",
        "plt.title('Eficiencia Metodo de intercambio')\n",
        "plt.show()\n"
      ],
      "metadata": {
        "id": "pJzD5qGAoBS7",
        "colab": {
          "base_uri": "https://localhost:8080/",
          "height": 295
        },
        "outputId": "7e8b248a-8c54-4683-fd34-5498eec2b907"
      },
      "execution_count": 13,
      "outputs": [
        {
          "output_type": "display_data",
          "data": {
            "text/plain": [
              "<Figure size 432x288 with 1 Axes>"
            ],
            "image/png": "[encoded data removed]"
          },
          "metadata": {}
        }
      ]
    }
  ]
}